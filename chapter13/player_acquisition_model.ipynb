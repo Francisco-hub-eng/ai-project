{
 "cells": [
  {
   "cell_type": "markdown",
   "id": "f3b25d4d",
   "metadata": {},
   "source": [
    "# Player Acquisition Models\n",
    "*This notebook is used to train a machine learning model using scikit-learn and save it in ONNX format.*"
   ]
  },
  {
   "cell_type": "markdown",
   "id": "eb549749",
   "metadata": {},
   "source": [
    "## Library imports"
   ]
  },
  {
   "cell_type": "code",
   "execution_count": 15,
   "id": "8a5757d8",
   "metadata": {},
   "outputs": [],
   "source": [
    "import logging\n",
    "import numpy as np\n",
    "import pandas as pd\n",
    "from sklearn.model_selection import train_test_split\n",
    "from sklearn.ensemble import GradientBoostingRegressor\n",
    "\n",
    "from skl2onnx import to_onnx\n",
    "#import onnxruntime as rt"
   ]
  },
  {
   "cell_type": "code",
   "execution_count": null,
   "id": "224e56e6",
   "metadata": {},
   "outputs": [],
   "source": []
  },
  {
   "cell_type": "markdown",
   "id": "65cc2ca4",
   "metadata": {},
   "source": [
    "## Configure logging"
   ]
  },
  {
   "cell_type": "code",
   "execution_count": null,
   "id": "cd65db23",
   "metadata": {},
   "outputs": [],
   "source": [
    "for handler in logging.root.handlers[:]:\n",
    "    logging.root.removeHandler(handler)\n",
    "\n",
    "logging.basicConfig(\n",
    "    filename='player_acquisition_notebook.log',\n",
    "    level=logging.INFO\n",
    ")"
   ]
  },
  {
   "cell_type": "markdown",
   "id": "6d2444b9",
   "metadata": {},
   "source": [
    "## load data"
   ]
  },
  {
   "cell_type": "code",
   "execution_count": 16,
   "id": "4c8adb0f",
   "metadata": {},
   "outputs": [],
   "source": [
    "dataset=pd.read_csv(\"player_training_data_full.csv\")"
   ]
  },
  {
   "cell_type": "markdown",
   "id": "749b6b3f",
   "metadata": {},
   "source": [
    "## Prepare and split data"
   ]
  },
  {
   "cell_type": "code",
   "execution_count": 18,
   "id": "e4a26f16",
   "metadata": {},
   "outputs": [],
   "source": [
    "X = dataset[['waiver_value_tier', 'fantasy_regular_season_weeks_remaining',\n",
    "             'league_budget_pct_remaining']]\n",
    "y = dataset['winning_bid_dollars']\n",
    "X_train, X_test, y_train, y_test = train_test_split(X,\n",
    "                                                    y,\n",
    "                                                    test_size=0.2,\n",
    "                                                    random_state = 0)"
   ]
  },
  {
   "cell_type": "code",
   "execution_count": null,
   "id": "86274b47",
   "metadata": {},
   "outputs": [],
   "source": [
    "model_10th_percentile = GradientBoostingRegressor(loss=\"quantile\", alpha = 0.1)\n",
    "model_50th_percentile = GradientBoostingRegressor(loss=\"quantile\", alpha= 0.5)\n",
    "model_90th_percentile = GradientBoostingRegressor(loss=\"quantile\", alpha=0.9)\n",
    "\n",
    "model_10th_percentile.fit(X_train, y_train)\n",
    "model_50th_percentile.fit(X_train, y_train)\n",
    "model_90th_percentile.fit(X_train, y_train)"
   ]
  }
 ],
 "metadata": {
  "kernelspec": {
   "display_name": "Python 3",
   "language": "python",
   "name": "python3"
  },
  "language_info": {
   "codemirror_mode": {
    "name": "ipython",
    "version": 3
   },
   "file_extension": ".py",
   "mimetype": "text/x-python",
   "name": "python",
   "nbconvert_exporter": "python",
   "pygments_lexer": "ipython3",
   "version": "3.12.1"
  }
 },
 "nbformat": 4,
 "nbformat_minor": 5
}
