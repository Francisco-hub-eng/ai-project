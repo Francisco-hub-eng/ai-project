{
 "cells": [
  {
   "cell_type": "markdown",
   "id": "f3b25d4d",
   "metadata": {},
   "source": [
    "# Player Acquisition Models\n",
    "*This notebook is used to train a machine learning model using scikit-learn and save it in ONNX format.*"
   ]
  },
  {
   "cell_type": "code",
   "execution_count": null,
   "id": "8a5757d8",
   "metadata": {},
   "outputs": [],
   "source": []
  }
 ],
 "metadata": {
  "language_info": {
   "name": "python"
  }
 },
 "nbformat": 4,
 "nbformat_minor": 5
}
